{
 "cells": [
  {
   "cell_type": "code",
   "execution_count": 228,
   "id": "4c527b21",
   "metadata": {},
   "outputs": [
    {
     "name": "stdout",
     "output_type": "stream",
     "text": [
      "Collecting imbalanced-learn\n",
      "  Using cached imbalanced_learn-0.9.1-py3-none-any.whl (199 kB)\n",
      "Requirement already satisfied: joblib>=1.0.0 in c:\\users\\acer\\anaconda3\\lib\\site-packages (from imbalanced-learn) (1.1.0)\n",
      "Requirement already satisfied: numpy>=1.17.3 in c:\\users\\acer\\anaconda3\\lib\\site-packages (from imbalanced-learn) (1.21.5)\n",
      "Requirement already satisfied: threadpoolctl>=2.0.0 in c:\\users\\acer\\anaconda3\\lib\\site-packages (from imbalanced-learn) (2.2.0)\n",
      "Requirement already satisfied: scikit-learn>=1.1.0 in c:\\users\\acer\\anaconda3\\lib\\site-packages (from imbalanced-learn) (1.1.2)\n",
      "Requirement already satisfied: scipy>=1.3.2 in c:\\users\\acer\\anaconda3\\lib\\site-packages (from imbalanced-learn) (1.7.3)\n",
      "Installing collected packages: imbalanced-learn\n",
      "Successfully installed imbalanced-learn-0.9.1\n"
     ]
    }
   ],
   "source": [
    "!pip install imbalanced-learn"
   ]
  },
  {
   "cell_type": "code",
   "execution_count": 1,
   "id": "f4fa8f3a",
   "metadata": {},
   "outputs": [],
   "source": [
    "import numpy as np\n",
    "import pandas as pd\n",
    "\n",
    "from sklearn.model_selection import train_test_split\n",
    "from sklearn.pipeline import Pipeline\n",
    "from sklearn.compose import ColumnTransformer"
   ]
  },
  {
   "cell_type": "code",
   "execution_count": 2,
   "id": "209f36b7",
   "metadata": {},
   "outputs": [
    {
     "data": {
      "text/html": [
       "<div>\n",
       "<style scoped>\n",
       "    .dataframe tbody tr th:only-of-type {\n",
       "        vertical-align: middle;\n",
       "    }\n",
       "\n",
       "    .dataframe tbody tr th {\n",
       "        vertical-align: top;\n",
       "    }\n",
       "\n",
       "    .dataframe thead th {\n",
       "        text-align: right;\n",
       "    }\n",
       "</style>\n",
       "<table border=\"1\" class=\"dataframe\">\n",
       "  <thead>\n",
       "    <tr style=\"text-align: right;\">\n",
       "      <th></th>\n",
       "      <th>Harapan_Lama_Sekolah</th>\n",
       "      <th>Pengeluaran_Perkapita</th>\n",
       "      <th>Rerata_Lama_Sekolah</th>\n",
       "      <th>Usia_Harapan_Hidup</th>\n",
       "      <th>IPM</th>\n",
       "    </tr>\n",
       "  </thead>\n",
       "  <tbody>\n",
       "    <tr>\n",
       "      <th>0</th>\n",
       "      <td>14.36</td>\n",
       "      <td>9572</td>\n",
       "      <td>9.37</td>\n",
       "      <td>69.96</td>\n",
       "      <td>High</td>\n",
       "    </tr>\n",
       "    <tr>\n",
       "      <th>1</th>\n",
       "      <td>13.90</td>\n",
       "      <td>7148</td>\n",
       "      <td>9.48</td>\n",
       "      <td>65.28</td>\n",
       "      <td>Normal</td>\n",
       "    </tr>\n",
       "    <tr>\n",
       "      <th>2</th>\n",
       "      <td>14.32</td>\n",
       "      <td>8776</td>\n",
       "      <td>8.68</td>\n",
       "      <td>67.43</td>\n",
       "      <td>Normal</td>\n",
       "    </tr>\n",
       "    <tr>\n",
       "      <th>3</th>\n",
       "      <td>14.60</td>\n",
       "      <td>8180</td>\n",
       "      <td>8.88</td>\n",
       "      <td>64.40</td>\n",
       "      <td>Normal</td>\n",
       "    </tr>\n",
       "    <tr>\n",
       "      <th>4</th>\n",
       "      <td>14.01</td>\n",
       "      <td>8030</td>\n",
       "      <td>9.67</td>\n",
       "      <td>68.22</td>\n",
       "      <td>Normal</td>\n",
       "    </tr>\n",
       "    <tr>\n",
       "      <th>...</th>\n",
       "      <td>...</td>\n",
       "      <td>...</td>\n",
       "      <td>...</td>\n",
       "      <td>...</td>\n",
       "      <td>...</td>\n",
       "    </tr>\n",
       "    <tr>\n",
       "      <th>2191</th>\n",
       "      <td>10.13</td>\n",
       "      <td>5522</td>\n",
       "      <td>4.91</td>\n",
       "      <td>65.32</td>\n",
       "      <td>Low</td>\n",
       "    </tr>\n",
       "    <tr>\n",
       "      <th>2192</th>\n",
       "      <td>7.11</td>\n",
       "      <td>5440</td>\n",
       "      <td>2.51</td>\n",
       "      <td>65.26</td>\n",
       "      <td>Low</td>\n",
       "    </tr>\n",
       "    <tr>\n",
       "      <th>2193</th>\n",
       "      <td>9.79</td>\n",
       "      <td>4761</td>\n",
       "      <td>2.99</td>\n",
       "      <td>64.83</td>\n",
       "      <td>Low</td>\n",
       "    </tr>\n",
       "    <tr>\n",
       "      <th>2194</th>\n",
       "      <td>14.99</td>\n",
       "      <td>14922</td>\n",
       "      <td>11.30</td>\n",
       "      <td>70.15</td>\n",
       "      <td>High</td>\n",
       "    </tr>\n",
       "    <tr>\n",
       "      <th>2195</th>\n",
       "      <td>12.91</td>\n",
       "      <td>11059</td>\n",
       "      <td>8.17</td>\n",
       "      <td>71.20</td>\n",
       "      <td>High</td>\n",
       "    </tr>\n",
       "  </tbody>\n",
       "</table>\n",
       "<p>2196 rows × 5 columns</p>\n",
       "</div>"
      ],
      "text/plain": [
       "      Harapan_Lama_Sekolah  Pengeluaran_Perkapita  Rerata_Lama_Sekolah  \\\n",
       "0                    14.36                   9572                 9.37   \n",
       "1                    13.90                   7148                 9.48   \n",
       "2                    14.32                   8776                 8.68   \n",
       "3                    14.60                   8180                 8.88   \n",
       "4                    14.01                   8030                 9.67   \n",
       "...                    ...                    ...                  ...   \n",
       "2191                 10.13                   5522                 4.91   \n",
       "2192                  7.11                   5440                 2.51   \n",
       "2193                  9.79                   4761                 2.99   \n",
       "2194                 14.99                  14922                11.30   \n",
       "2195                 12.91                  11059                 8.17   \n",
       "\n",
       "      Usia_Harapan_Hidup     IPM  \n",
       "0                  69.96    High  \n",
       "1                  65.28  Normal  \n",
       "2                  67.43  Normal  \n",
       "3                  64.40  Normal  \n",
       "4                  68.22  Normal  \n",
       "...                  ...     ...  \n",
       "2191               65.32     Low  \n",
       "2192               65.26     Low  \n",
       "2193               64.83     Low  \n",
       "2194               70.15    High  \n",
       "2195               71.20    High  \n",
       "\n",
       "[2196 rows x 5 columns]"
      ]
     },
     "execution_count": 2,
     "metadata": {},
     "output_type": "execute_result"
    }
   ],
   "source": [
    "ds = pd.read_csv('IPM.csv')\n",
    "ds"
   ]
  },
  {
   "cell_type": "code",
   "execution_count": 3,
   "id": "7817df16",
   "metadata": {},
   "outputs": [
    {
     "data": {
      "text/plain": [
       "Harapan_Lama_Sekolah     0\n",
       "Pengeluaran_Perkapita    0\n",
       "Rerata_Lama_Sekolah      0\n",
       "Usia_Harapan_Hidup       0\n",
       "IPM                      0\n",
       "dtype: int64"
      ]
     },
     "execution_count": 3,
     "metadata": {},
     "output_type": "execute_result"
    }
   ],
   "source": [
    "ds.isnull().sum()"
   ]
  },
  {
   "cell_type": "code",
   "execution_count": 4,
   "id": "6fbdd6fb",
   "metadata": {},
   "outputs": [
    {
     "data": {
      "text/html": [
       "<div>\n",
       "<style scoped>\n",
       "    .dataframe tbody tr th:only-of-type {\n",
       "        vertical-align: middle;\n",
       "    }\n",
       "\n",
       "    .dataframe tbody tr th {\n",
       "        vertical-align: top;\n",
       "    }\n",
       "\n",
       "    .dataframe thead th {\n",
       "        text-align: right;\n",
       "    }\n",
       "</style>\n",
       "<table border=\"1\" class=\"dataframe\">\n",
       "  <thead>\n",
       "    <tr style=\"text-align: right;\">\n",
       "      <th></th>\n",
       "      <th>Harapan_Lama_Sekolah</th>\n",
       "      <th>Pengeluaran_Perkapita</th>\n",
       "      <th>Rerata_Lama_Sekolah</th>\n",
       "      <th>Usia_Harapan_Hidup</th>\n",
       "    </tr>\n",
       "  </thead>\n",
       "  <tbody>\n",
       "    <tr>\n",
       "      <th>569</th>\n",
       "      <td>13.95</td>\n",
       "      <td>11273</td>\n",
       "      <td>11.14</td>\n",
       "      <td>70.51</td>\n",
       "    </tr>\n",
       "    <tr>\n",
       "      <th>502</th>\n",
       "      <td>15.75</td>\n",
       "      <td>13290</td>\n",
       "      <td>11.81</td>\n",
       "      <td>71.06</td>\n",
       "    </tr>\n",
       "    <tr>\n",
       "      <th>1041</th>\n",
       "      <td>13.97</td>\n",
       "      <td>7351</td>\n",
       "      <td>10.52</td>\n",
       "      <td>65.47</td>\n",
       "    </tr>\n",
       "    <tr>\n",
       "      <th>507</th>\n",
       "      <td>11.63</td>\n",
       "      <td>8034</td>\n",
       "      <td>7.08</td>\n",
       "      <td>60.24</td>\n",
       "    </tr>\n",
       "    <tr>\n",
       "      <th>265</th>\n",
       "      <td>13.77</td>\n",
       "      <td>11510</td>\n",
       "      <td>8.04</td>\n",
       "      <td>72.49</td>\n",
       "    </tr>\n",
       "    <tr>\n",
       "      <th>...</th>\n",
       "      <td>...</td>\n",
       "      <td>...</td>\n",
       "      <td>...</td>\n",
       "      <td>...</td>\n",
       "    </tr>\n",
       "    <tr>\n",
       "      <th>74</th>\n",
       "      <td>15.07</td>\n",
       "      <td>10754</td>\n",
       "      <td>11.63</td>\n",
       "      <td>72.82</td>\n",
       "    </tr>\n",
       "    <tr>\n",
       "      <th>538</th>\n",
       "      <td>11.80</td>\n",
       "      <td>4603</td>\n",
       "      <td>5.87</td>\n",
       "      <td>58.00</td>\n",
       "    </tr>\n",
       "    <tr>\n",
       "      <th>1700</th>\n",
       "      <td>12.68</td>\n",
       "      <td>12434</td>\n",
       "      <td>10.24</td>\n",
       "      <td>70.47</td>\n",
       "    </tr>\n",
       "    <tr>\n",
       "      <th>1060</th>\n",
       "      <td>13.71</td>\n",
       "      <td>7495</td>\n",
       "      <td>8.17</td>\n",
       "      <td>66.10</td>\n",
       "    </tr>\n",
       "    <tr>\n",
       "      <th>1143</th>\n",
       "      <td>13.02</td>\n",
       "      <td>9100</td>\n",
       "      <td>8.69</td>\n",
       "      <td>66.98</td>\n",
       "    </tr>\n",
       "  </tbody>\n",
       "</table>\n",
       "<p>1756 rows × 4 columns</p>\n",
       "</div>"
      ],
      "text/plain": [
       "      Harapan_Lama_Sekolah  Pengeluaran_Perkapita  Rerata_Lama_Sekolah  \\\n",
       "569                  13.95                  11273                11.14   \n",
       "502                  15.75                  13290                11.81   \n",
       "1041                 13.97                   7351                10.52   \n",
       "507                  11.63                   8034                 7.08   \n",
       "265                  13.77                  11510                 8.04   \n",
       "...                    ...                    ...                  ...   \n",
       "74                   15.07                  10754                11.63   \n",
       "538                  11.80                   4603                 5.87   \n",
       "1700                 12.68                  12434                10.24   \n",
       "1060                 13.71                   7495                 8.17   \n",
       "1143                 13.02                   9100                 8.69   \n",
       "\n",
       "      Usia_Harapan_Hidup  \n",
       "569                70.51  \n",
       "502                71.06  \n",
       "1041               65.47  \n",
       "507                60.24  \n",
       "265                72.49  \n",
       "...                  ...  \n",
       "74                 72.82  \n",
       "538                58.00  \n",
       "1700               70.47  \n",
       "1060               66.10  \n",
       "1143               66.98  \n",
       "\n",
       "[1756 rows x 4 columns]"
      ]
     },
     "execution_count": 4,
     "metadata": {},
     "output_type": "execute_result"
    }
   ],
   "source": [
    "X = ds.drop(columns='IPM')\n",
    "y = ds.IPM\n",
    "\n",
    "X_train, X_test, y_train, y_test = train_test_split(X,y,test_size=0.2, stratify=y, random_state=1)\n",
    "X_train"
   ]
  },
  {
   "cell_type": "code",
   "execution_count": 22,
   "id": "b8088404",
   "metadata": {},
   "outputs": [
    {
     "data": {
      "text/plain": [
       "Index(['Harapan_Lama_Sekolah', 'Pengeluaran_Perkapita', 'Rerata_Lama_Sekolah',\n",
       "       'Usia_Harapan_Hidup', 'IPM'],\n",
       "      dtype='object')"
      ]
     },
     "execution_count": 22,
     "metadata": {},
     "output_type": "execute_result"
    }
   ],
   "source": [
    "ds.columns"
   ]
  },
  {
   "cell_type": "code",
   "execution_count": 5,
   "id": "665fa3c5",
   "metadata": {},
   "outputs": [
    {
     "data": {
      "image/png": "[encoded data removed]",
      "text/plain": [
       "<Figure size 1080x432 with 1 Axes>"
      ]
     },
     "metadata": {
      "needs_background": "light"
     },
     "output_type": "display_data"
    }
   ],
   "source": [
    "import seaborn as sns\n",
    "import matplotlib.pyplot as plt\n",
    "\n",
    "plt.figure(figsize=(15,6))\n",
    "sns.countplot(x=ds['IPM'], data = ds)\n",
    "plt.xticks(rotation=90)\n",
    "plt.show()"
   ]
  },
  {
   "cell_type": "code",
   "execution_count": 6,
   "id": "cfd850ce",
   "metadata": {},
   "outputs": [
    {
     "data": {
      "text/plain": [
       "Normal       1128\n",
       "High          829\n",
       "Very-High     146\n",
       "Low            93\n",
       "Name: IPM, dtype: int64"
      ]
     },
     "execution_count": 6,
     "metadata": {},
     "output_type": "execute_result"
    }
   ],
   "source": [
    "ds.IPM.value_counts()"
   ]
  },
  {
   "cell_type": "code",
   "execution_count": 7,
   "id": "696f514c",
   "metadata": {},
   "outputs": [],
   "source": [
    "from imblearn.over_sampling import SMOTE\n",
    "from imblearn.under_sampling import NearMiss\n",
    "# define oversampling strategy\n",
    "SMOTE = SMOTE()\n",
    "NR = NearMiss()\n",
    "\n",
    "# fit and apply the transform\n",
    "X_train_SMOTE, y_train_SMOTE = SMOTE.fit_resample(X_train, y_train)"
   ]
  },
  {
   "cell_type": "code",
   "execution_count": 8,
   "id": "38115099",
   "metadata": {},
   "outputs": [
    {
     "name": "stdout",
     "output_type": "stream",
     "text": [
      "Before OverSampling, counts of label 'Low': 74\n",
      "Before OverSampling, counts of label 'Normal': 902\n",
      "Before OverSampling, counts of label 'High': 663\n",
      "Before OverSampling, counts of label 'Very-High': 117 \n",
      "\n",
      "After OverSampling, counts of label 'Low': 902\n",
      "After OverSampling, counts of label 'Normal': 902\n",
      "After OverSampling, counts of label 'High': 902\n",
      "After OverSampling, counts of label 'Very-High': 902\n"
     ]
    }
   ],
   "source": [
    "print(\"Before OverSampling, counts of label 'Low': {}\".format(sum(y_train == 'Low')))\n",
    "print(\"Before OverSampling, counts of label 'Normal': {}\".format(sum(y_train == 'Normal')))\n",
    "print(\"Before OverSampling, counts of label 'High': {}\".format(sum(y_train == 'High')))\n",
    "print(\"Before OverSampling, counts of label 'Very-High': {} \\n\".format(sum(y_train == 'Very-High')))\n",
    "\n",
    "print(\"After OverSampling, counts of label 'Low': {}\".format(sum(y_train_SMOTE == 'Low')))\n",
    "print(\"After OverSampling, counts of label 'Normal': {}\".format(sum(y_train_SMOTE == 'Normal')))\n",
    "print(\"After OverSampling, counts of label 'High': {}\".format(sum(y_train_SMOTE == 'High')))\n",
    "print(\"After OverSampling, counts of label 'Very-High': {}\".format(sum(y_train_SMOTE == 'Very-High')))"
   ]
  },
  {
   "cell_type": "code",
   "execution_count": 9,
   "id": "cf7931fa",
   "metadata": {},
   "outputs": [
    {
     "data": {
      "text/plain": [
       "Index(['Harapan_Lama_Sekolah', 'Pengeluaran_Perkapita', 'Rerata_Lama_Sekolah',\n",
       "       'Usia_Harapan_Hidup'],\n",
       "      dtype='object')"
      ]
     },
     "execution_count": 9,
     "metadata": {},
     "output_type": "execute_result"
    }
   ],
   "source": [
    "X_train_SMOTE.columns"
   ]
  },
  {
   "cell_type": "markdown",
   "id": "04684643",
   "metadata": {},
   "source": [
    "# Preprocessing"
   ]
  },
  {
   "cell_type": "code",
   "execution_count": 10,
   "id": "eb80ffab",
   "metadata": {},
   "outputs": [],
   "source": [
    "from sklearn.preprocessing import MinMaxScaler,StandardScaler\n",
    "from sklearn.discriminant_analysis import LinearDiscriminantAnalysis as LDA\n",
    "\n",
    "numpipe = Pipeline([\n",
    "    ('minmax', MinMaxScaler())\n",
    "])\n",
    "\n",
    "numpipe2 = Pipeline([\n",
    "    ('minmax', MinMaxScaler()),\n",
    "    ('lida', LDA(n_components=2))\n",
    "])\n",
    "\n",
    "\n",
    "from sklearn.compose import ColumnTransformer\n",
    "prep = ColumnTransformer([\n",
    "    ('prep', numpipe, ['Harapan_Lama_Sekolah', 'Pengeluaran_Perkapita', 'Rerata_Lama_Sekolah','Usia_Harapan_Hidup'])\n",
    "])\n",
    "\n",
    "prep2 = ColumnTransformer([\n",
    "    ('prep', numpipe2, ['Harapan_Lama_Sekolah', 'Pengeluaran_Perkapita', 'Rerata_Lama_Sekolah','Usia_Harapan_Hidup'])\n",
    "])\n",
    "\n",
    "from sklearn.neighbors import KNeighborsClassifier\n",
    "from sklearn.linear_model import LogisticRegression\n",
    "from sklearn.tree import DecisionTreeClassifier\n",
    "from sklearn.ensemble import RandomForestClassifier\n",
    "from sklearn.ensemble import AdaBoostClassifier\n",
    "from sklearn.ensemble import GradientBoostingClassifier\n",
    "\n",
    "final_knn = Pipeline([\n",
    "    ('prep', prep),\n",
    "    ('algo_knn', KNeighborsClassifier())\n",
    "])\n",
    "\n",
    "final_logistic = Pipeline([\n",
    "    ('prep', prep),\n",
    "    ('algo_log', LogisticRegression(multi_class='ovr', solver='lbfgs', max_iter=1000))\n",
    "])\n",
    "\n",
    "final_tree = Pipeline([\n",
    "    ('prep', prep),\n",
    "    ('algo_tree', DecisionTreeClassifier())\n",
    "])\n",
    "\n",
    "final_random = Pipeline([\n",
    "    ('prep', prep),\n",
    "    ('algo_rand', RandomForestClassifier()\n",
    "    )\n",
    "])\n",
    "\n",
    "final_ada = Pipeline([\n",
    "    ('prep', prep),\n",
    "    ('algo_ada', AdaBoostClassifier(\n",
    "                    base_estimator=None,\n",
    "                    n_estimators=100,\n",
    "                    learning_rate=0.5,\n",
    "                    algorithm='SAMME.R',\n",
    "                    random_state=1,\n",
    "    )\n",
    "    )\n",
    "])\n",
    "\n",
    "final_grad = Pipeline([\n",
    "    ('prep', prep),\n",
    "    ('algo_grad', GradientBoostingClassifier())\n",
    "])"
   ]
  },
  {
   "cell_type": "markdown",
   "id": "4aafbc63",
   "metadata": {},
   "source": [
    "# Finding Best Model"
   ]
  },
  {
   "cell_type": "code",
   "execution_count": 11,
   "id": "7d5deb6a",
   "metadata": {},
   "outputs": [
    {
     "name": "stdout",
     "output_type": "stream",
     "text": [
      "KNN:  0.9880820399113082\n",
      "KNN:  0.9590909090909091\n",
      " \n",
      "Logistic:  0.8475609756097561\n",
      "Logistic:  0.7477272727272727\n",
      " \n",
      "DecTree:  1.0\n",
      "DecTree:  0.9454545454545454\n",
      "========================================\n",
      "RandomForest:  1.0\n",
      "RandomForest:  0.9727272727272728\n",
      " \n",
      "AdaBoost:  0.655210643015521\n",
      "AdaBoost:  0.8931818181818182\n",
      " \n",
      "GradientBoost:  1.0\n",
      "GradientBoost:  0.9772727272727273\n"
     ]
    }
   ],
   "source": [
    "final_knn.fit(X_train_SMOTE, y_train_SMOTE)\n",
    "train_knn = final_knn.score(X_train_SMOTE, y_train_SMOTE)\n",
    "score_knn = final_knn.score(X_test, y_test)\n",
    "print(\"KNN: \", train_knn)\n",
    "print(\"KNN: \", score_knn)\n",
    "\n",
    "print(\" \")\n",
    "\n",
    "final_logistic.fit(X_train_SMOTE, y_train_SMOTE)\n",
    "train_logistic = final_logistic.score(X_train_SMOTE, y_train_SMOTE)\n",
    "score_logistic = final_logistic.score(X_test, y_test)\n",
    "print(\"Logistic: \", train_logistic)\n",
    "print(\"Logistic: \", score_logistic)\n",
    "\n",
    "print(\" \")\n",
    "\n",
    "final_tree.fit(X_train_SMOTE, y_train_SMOTE)\n",
    "train_tree = final_tree.score(X_train_SMOTE, y_train_SMOTE)\n",
    "score_tree = final_tree.score(X_test, y_test)\n",
    "print(\"DecTree: \", train_tree)\n",
    "print(\"DecTree: \", score_tree)\n",
    "\n",
    "print(\"========================================\")\n",
    "\n",
    "final_random.fit(X_train_SMOTE, y_train_SMOTE)\n",
    "train_random = final_random.score(X_train_SMOTE, y_train_SMOTE)\n",
    "score_random = final_random.score(X_test, y_test)\n",
    "print(\"RandomForest: \", train_random)\n",
    "print(\"RandomForest: \", score_random)\n",
    "\n",
    "print(\" \")\n",
    "\n",
    "final_ada.fit(X_train_SMOTE, y_train_SMOTE)\n",
    "train_ada = final_ada.score(X_train_SMOTE, y_train_SMOTE)\n",
    "score_ada = final_ada.score(X_test, y_test)\n",
    "print(\"AdaBoost: \", train_ada)\n",
    "print(\"AdaBoost: \", score_ada)\n",
    "\n",
    "print(\" \")\n",
    "\n",
    "final_grad.fit(X_train_SMOTE, y_train_SMOTE)\n",
    "train_grad = final_grad.score(X_train_SMOTE, y_train_SMOTE)\n",
    "score_grad = final_grad.score(X_test, y_test)\n",
    "print(\"GradientBoost: \", train_grad)\n",
    "print(\"GradientBoost: \", score_grad)"
   ]
  },
  {
   "cell_type": "markdown",
   "id": "f0c67df8",
   "metadata": {},
   "source": [
    "# Tuning"
   ]
  },
  {
   "cell_type": "code",
   "execution_count": 378,
   "id": "47396da3",
   "metadata": {},
   "outputs": [
    {
     "data": {
      "text/html": [
       "<div>\n",
       "<style scoped>\n",
       "    .dataframe tbody tr th:only-of-type {\n",
       "        vertical-align: middle;\n",
       "    }\n",
       "\n",
       "    .dataframe tbody tr th {\n",
       "        vertical-align: top;\n",
       "    }\n",
       "\n",
       "    .dataframe thead th {\n",
       "        text-align: right;\n",
       "    }\n",
       "</style>\n",
       "<table border=\"1\" class=\"dataframe\">\n",
       "  <thead>\n",
       "    <tr style=\"text-align: right;\">\n",
       "      <th></th>\n",
       "      <th>Harapan_Lama_Sekolah</th>\n",
       "      <th>Pengeluaran_Perkapita</th>\n",
       "      <th>Rerata_Lama_Sekolah</th>\n",
       "      <th>Usia_Harapan_Hidup</th>\n",
       "      <th>IPM</th>\n",
       "    </tr>\n",
       "  </thead>\n",
       "  <tbody>\n",
       "    <tr>\n",
       "      <th>0</th>\n",
       "      <td>14.36</td>\n",
       "      <td>9572</td>\n",
       "      <td>9.37</td>\n",
       "      <td>69.96</td>\n",
       "      <td>High</td>\n",
       "    </tr>\n",
       "    <tr>\n",
       "      <th>1</th>\n",
       "      <td>13.90</td>\n",
       "      <td>7148</td>\n",
       "      <td>9.48</td>\n",
       "      <td>65.28</td>\n",
       "      <td>Normal</td>\n",
       "    </tr>\n",
       "    <tr>\n",
       "      <th>2</th>\n",
       "      <td>14.32</td>\n",
       "      <td>8776</td>\n",
       "      <td>8.68</td>\n",
       "      <td>67.43</td>\n",
       "      <td>Normal</td>\n",
       "    </tr>\n",
       "    <tr>\n",
       "      <th>3</th>\n",
       "      <td>14.60</td>\n",
       "      <td>8180</td>\n",
       "      <td>8.88</td>\n",
       "      <td>64.40</td>\n",
       "      <td>Normal</td>\n",
       "    </tr>\n",
       "    <tr>\n",
       "      <th>4</th>\n",
       "      <td>14.01</td>\n",
       "      <td>8030</td>\n",
       "      <td>9.67</td>\n",
       "      <td>68.22</td>\n",
       "      <td>Normal</td>\n",
       "    </tr>\n",
       "    <tr>\n",
       "      <th>...</th>\n",
       "      <td>...</td>\n",
       "      <td>...</td>\n",
       "      <td>...</td>\n",
       "      <td>...</td>\n",
       "      <td>...</td>\n",
       "    </tr>\n",
       "    <tr>\n",
       "      <th>2191</th>\n",
       "      <td>10.13</td>\n",
       "      <td>5522</td>\n",
       "      <td>4.91</td>\n",
       "      <td>65.32</td>\n",
       "      <td>Low</td>\n",
       "    </tr>\n",
       "    <tr>\n",
       "      <th>2192</th>\n",
       "      <td>7.11</td>\n",
       "      <td>5440</td>\n",
       "      <td>2.51</td>\n",
       "      <td>65.26</td>\n",
       "      <td>Low</td>\n",
       "    </tr>\n",
       "    <tr>\n",
       "      <th>2193</th>\n",
       "      <td>9.79</td>\n",
       "      <td>4761</td>\n",
       "      <td>2.99</td>\n",
       "      <td>64.83</td>\n",
       "      <td>Low</td>\n",
       "    </tr>\n",
       "    <tr>\n",
       "      <th>2194</th>\n",
       "      <td>14.99</td>\n",
       "      <td>14922</td>\n",
       "      <td>11.30</td>\n",
       "      <td>70.15</td>\n",
       "      <td>High</td>\n",
       "    </tr>\n",
       "    <tr>\n",
       "      <th>2195</th>\n",
       "      <td>12.91</td>\n",
       "      <td>11059</td>\n",
       "      <td>8.17</td>\n",
       "      <td>71.20</td>\n",
       "      <td>High</td>\n",
       "    </tr>\n",
       "  </tbody>\n",
       "</table>\n",
       "<p>2196 rows × 5 columns</p>\n",
       "</div>"
      ],
      "text/plain": [
       "      Harapan_Lama_Sekolah  Pengeluaran_Perkapita  Rerata_Lama_Sekolah  \\\n",
       "0                    14.36                   9572                 9.37   \n",
       "1                    13.90                   7148                 9.48   \n",
       "2                    14.32                   8776                 8.68   \n",
       "3                    14.60                   8180                 8.88   \n",
       "4                    14.01                   8030                 9.67   \n",
       "...                    ...                    ...                  ...   \n",
       "2191                 10.13                   5522                 4.91   \n",
       "2192                  7.11                   5440                 2.51   \n",
       "2193                  9.79                   4761                 2.99   \n",
       "2194                 14.99                  14922                11.30   \n",
       "2195                 12.91                  11059                 8.17   \n",
       "\n",
       "      Usia_Harapan_Hidup     IPM  \n",
       "0                  69.96    High  \n",
       "1                  65.28  Normal  \n",
       "2                  67.43  Normal  \n",
       "3                  64.40  Normal  \n",
       "4                  68.22  Normal  \n",
       "...                  ...     ...  \n",
       "2191               65.32     Low  \n",
       "2192               65.26     Low  \n",
       "2193               64.83     Low  \n",
       "2194               70.15    High  \n",
       "2195               71.20    High  \n",
       "\n",
       "[2196 rows x 5 columns]"
      ]
     },
     "execution_count": 378,
     "metadata": {},
     "output_type": "execute_result"
    }
   ],
   "source": [
    "ds"
   ]
  },
  {
   "cell_type": "markdown",
   "id": "5db770f0",
   "metadata": {},
   "source": [
    "# Tuning KNN"
   ]
  },
  {
   "cell_type": "code",
   "execution_count": 1,
   "id": "7d44515d",
   "metadata": {},
   "outputs": [],
   "source": [
    "from sklearn.model_selection import GridSearchCV\n",
    "from jcopml.tuning import grid_search_params as gsp"
   ]
  },
  {
   "cell_type": "code",
   "execution_count": 2,
   "id": "982fa07a",
   "metadata": {},
   "outputs": [
    {
     "data": {
      "text/plain": [
       "{'algo__n_estimators': [100, 150, 200],\n",
       " 'algo__max_depth': [20, 50, 80],\n",
       " 'algo__max_features': [0.3, 0.6, 0.8],\n",
       " 'algo__min_samples_leaf': [1, 5, 10]}"
      ]
     },
     "execution_count": 2,
     "metadata": {},
     "output_type": "execute_result"
    }
   ],
   "source": [
    "gsp.rf_params"
   ]
  },
  {
   "cell_type": "code",
   "execution_count": 389,
   "id": "b227f840",
   "metadata": {},
   "outputs": [
    {
     "name": "stdout",
     "output_type": "stream",
     "text": [
      "Fitting 2 folds for each of 100 candidates, totalling 200 fits\n",
      "{'algo_knn__n_neighbors': 1, 'algo_knn__p': 2, 'algo_knn__weights': 'uniform'}\n",
      "1.0 0.9819844789356984 0.9636363636363636\n",
      "\n",
      "Fitting 3 folds for each of 100 candidates, totalling 300 fits\n",
      "{'algo_knn__n_neighbors': 9, 'algo_knn__p': 2, 'algo_knn__weights': 'distance'}\n",
      "1.0 0.9828179597226199 0.9727272727272728\n",
      "\n",
      "Fitting 4 folds for each of 100 candidates, totalling 400 fits\n",
      "{'algo_knn__n_neighbors': 9, 'algo_knn__p': 2, 'algo_knn__weights': 'distance'}\n",
      "1.0 0.9858647450110865 0.9727272727272728\n",
      "\n",
      "Fitting 5 folds for each of 100 candidates, totalling 500 fits\n",
      "{'algo_knn__n_neighbors': 9, 'algo_knn__p': 2, 'algo_knn__weights': 'distance'}\n",
      "1.0 0.9853116439540344 0.9727272727272728\n",
      "\n",
      "Fitting 6 folds for each of 100 candidates, totalling 600 fits\n",
      "{'algo_knn__n_neighbors': 9, 'algo_knn__p': 2, 'algo_knn__weights': 'distance'}\n",
      "1.0 0.9850360141734983 0.9727272727272728\n",
      "\n",
      "Fitting 7 folds for each of 100 candidates, totalling 700 fits\n",
      "{'algo_knn__n_neighbors': 9, 'algo_knn__p': 2, 'algo_knn__weights': 'distance'}\n",
      "1.0 0.9853127116730639 0.9727272727272728\n",
      "\n",
      "Fitting 8 folds for each of 100 candidates, totalling 800 fits\n",
      "{'algo_knn__n_neighbors': 9, 'algo_knn__p': 2, 'algo_knn__weights': 'distance'}\n",
      "1.0 0.9864190687361418 0.9727272727272728\n",
      "\n",
      "Fitting 9 folds for each of 100 candidates, totalling 900 fits\n",
      "{'algo_knn__n_neighbors': 9, 'algo_knn__p': 2, 'algo_knn__weights': 'distance'}\n",
      "1.0 0.9858665835411471 0.9727272727272728\n",
      "\n",
      "Fitting 10 folds for each of 100 candidates, totalling 1000 fits\n",
      "{'algo_knn__n_neighbors': 9, 'algo_knn__p': 2, 'algo_knn__weights': 'distance'}\n",
      "1.0 0.9861472760849492 0.9727272727272728\n",
      "\n",
      "Fitting 11 folds for each of 100 candidates, totalling 1100 fits\n",
      "{'algo_knn__n_neighbors': 11, 'algo_knn__p': 2, 'algo_knn__weights': 'distance'}\n",
      "1.0 0.9864190687361418 0.9727272727272728\n",
      "\n"
     ]
    }
   ],
   "source": [
    "parameter = {\n",
    "    'algo_knn__n_neighbors' : range(1,51,2),\n",
    "    'algo_knn__weights' : ['uniform', 'distance'],\n",
    "    'algo_knn__p': [1,2]\n",
    "}\n",
    "\n",
    "for i in range (2,12):\n",
    "    model = GridSearchCV(final_knn, parameter, n_jobs=-1, verbose=1, cv=i)\n",
    "    model.fit(X_train_SMOTE, y_train_SMOTE)\n",
    "    print(model.best_params_)\n",
    "    print(model.score(X_train_SMOTE, y_train_SMOTE), model.best_score_, model.score(X_test, y_test))\n",
    "    print(\"\")"
   ]
  },
  {
   "cell_type": "code",
   "execution_count": 12,
   "id": "ba33dfbe",
   "metadata": {},
   "outputs": [],
   "source": [
    "final_knn2 = Pipeline([\n",
    "    ('prep', prep), # -> coba ubah prep2\n",
    "    ('algo_knn', KNeighborsClassifier( \n",
    "                    n_neighbors=5,\n",
    "                    weights='uniform',\n",
    "                    algorithm='auto',\n",
    "                    leaf_size=30,\n",
    "                    p=2,\n",
    "                    metric='minkowski',\n",
    "                    metric_params=None,\n",
    "                    n_jobs=None)\n",
    "    )\n",
    "])"
   ]
  },
  {
   "cell_type": "code",
   "execution_count": 13,
   "id": "a0ac5423",
   "metadata": {},
   "outputs": [
    {
     "name": "stdout",
     "output_type": "stream",
     "text": [
      "KNN Train:  0.9880820399113082\n",
      "KNN Test:  0.9590909090909091\n"
     ]
    }
   ],
   "source": [
    "final_knn2.fit(X_train_SMOTE, y_train_SMOTE)\n",
    "train_knn2 = final_knn2.score(X_train_SMOTE, y_train_SMOTE)\n",
    "score_knn2 = final_knn2.score(X_test, y_test)\n",
    "print(\"KNN Train: \", train_knn2)\n",
    "print(\"KNN Test: \", score_knn2)"
   ]
  },
  {
   "cell_type": "code",
   "execution_count": 14,
   "id": "ceb82feb",
   "metadata": {},
   "outputs": [
    {
     "name": "stdout",
     "output_type": "stream",
     "text": [
      "              precision    recall  f1-score   support\n",
      "\n",
      "        High       0.94      0.96      0.95       166\n",
      "         Low       0.95      1.00      0.97        19\n",
      "      Normal       0.98      0.95      0.96       226\n",
      "   Very-High       0.97      1.00      0.98        29\n",
      "\n",
      "    accuracy                           0.96       440\n",
      "   macro avg       0.96      0.98      0.97       440\n",
      "weighted avg       0.96      0.96      0.96       440\n",
      "\n"
     ]
    }
   ],
   "source": [
    "#Check performa model menggunakan classification_report\n",
    "from sklearn.metrics import classification_report\n",
    "y_pred_knn = final_knn2.predict(X_test)\n",
    "print(classification_report(y_test, y_pred_knn))"
   ]
  },
  {
   "cell_type": "code",
   "execution_count": 15,
   "id": "739032f2",
   "metadata": {},
   "outputs": [
    {
     "data": {
      "text/plain": [
       "(0.96, 0.96, 0.96, 0.96)"
      ]
     },
     "execution_count": 15,
     "metadata": {},
     "output_type": "execute_result"
    }
   ],
   "source": [
    "from sklearn.metrics import precision_score, recall_score, f1_score, accuracy_score\n",
    "\n",
    "precision = round(precision_score(y_test, y_pred_knn, average='micro'), 2)\n",
    "recall = round(recall_score(y_test, y_pred_knn, average='micro'), 2)\n",
    "accuracy = round(accuracy_score(y_test, y_pred_knn), 2)\n",
    "f1 = round(f1_score(y_test, y_pred_knn, average='micro'), 2)\n",
    "\n",
    "precision,recall,accuracy,f1"
   ]
  },
  {
   "cell_type": "code",
   "execution_count": 16,
   "id": "b5512bce",
   "metadata": {},
   "outputs": [
    {
     "name": "stdout",
     "output_type": "stream",
     "text": [
      "[[160   0   5   1]\n",
      " [  0  19   0   0]\n",
      " [ 11   1 214   0]\n",
      " [  0   0   0  29]]\n"
     ]
    },
    {
     "data": {
      "text/plain": [
       "0.9590909090909091"
      ]
     },
     "execution_count": 16,
     "metadata": {},
     "output_type": "execute_result"
    }
   ],
   "source": [
    "from sklearn.metrics import confusion_matrix, accuracy_score\n",
    "from sklearn import metrics\n",
    "\n",
    "cm = confusion_matrix(y_test, y_pred_knn)\n",
    "print(cm)\n",
    "\n",
    "accuracy_score(y_test, y_pred_knn)"
   ]
  },
  {
   "cell_type": "code",
   "execution_count": 17,
   "id": "3424dfa4",
   "metadata": {},
   "outputs": [
    {
     "data": {
      "image/png": "[encoded data removed]",
      "text/plain": [
       "<Figure size 432x288 with 2 Axes>"
      ]
     },
     "metadata": {
      "needs_background": "light"
     },
     "output_type": "display_data"
    }
   ],
   "source": [
    "from sklearn.metrics import confusion_matrix, accuracy_score\n",
    "from sklearn import metrics\n",
    "\n",
    "cm_display = metrics.ConfusionMatrixDisplay(confusion_matrix = cm, display_labels = ['Low', 'Normal', 'High', 'Very-High'])\n",
    "\n",
    "cm_display.plot()\n",
    "plt.show()"
   ]
  },
  {
   "cell_type": "markdown",
   "id": "ff7a3a15",
   "metadata": {},
   "source": [
    "# Predict"
   ]
  },
  {
   "cell_type": "code",
   "execution_count": 30,
   "id": "4c7c9b02",
   "metadata": {},
   "outputs": [
    {
     "name": "stdout",
     "output_type": "stream",
     "text": [
      "Masukan harapan lama sekolah: 13\n",
      "Masukan pengeluaran perkapita: 20000\n",
      "Masukan rerata lama sekola: 9\n",
      "Masukan usia harapan hidup: 75\n",
      "  Harapan_Lama_Sekolah  Pengeluaran_Perkapita  Rerata_Lama_Sekolah  \\\n",
      "                  13.0                20000.0                  9.0   \n",
      "\n",
      "  Usia_Harapan_Hidup        IPM  \n",
      "                75.0  Very-High  \n"
     ]
    }
   ],
   "source": [
    "test_data = []\n",
    "dt = []\n",
    "\n",
    "hls = float(input('Masukan harapan lama sekolah: '))\n",
    "pp = float(input('Masukan pengeluaran perkapita: '))\n",
    "rls = float(input('Masukan rerata lama sekola: '))\n",
    "uhh = float(input('Masukan usia harapan hidup: '))\n",
    "\n",
    "dt.append(hls)\n",
    "dt.append(pp)\n",
    "dt.append(rls)\n",
    "dt.append(uhh)\n",
    "\n",
    "test_data.append(dt)\n",
    "# test_data\n",
    "\n",
    "X_pred = pd.DataFrame(test_data, index=[''], columns=X.columns)\n",
    "X_pred['IPM'] = final_knn2.predict(X_pred)\n",
    "print(X_pred)"
   ]
  },
  {
   "cell_type": "markdown",
   "id": "2741b683",
   "metadata": {},
   "source": [
    "# Save Model"
   ]
  },
  {
   "cell_type": "code",
   "execution_count": 20,
   "id": "228c1057",
   "metadata": {},
   "outputs": [],
   "source": [
    "import joblib"
   ]
  },
  {
   "cell_type": "code",
   "execution_count": 21,
   "id": "938ab454",
   "metadata": {},
   "outputs": [
    {
     "data": {
      "text/plain": [
       "['model.pkl']"
      ]
     },
     "execution_count": 21,
     "metadata": {},
     "output_type": "execute_result"
    }
   ],
   "source": [
    "# save\n",
    "joblib_file = 'model.pkl'\n",
    "joblib.dump(final_knn2, joblib_file)"
   ]
  }
 ],
 "metadata": {
  "kernelspec": {
   "display_name": "Python 3 (ipykernel)",
   "language": "python",
   "name": "python3"
  },
  "language_info": {
   "codemirror_mode": {
    "name": "ipython",
    "version": 3
   },
   "file_extension": ".py",
   "mimetype": "text/x-python",
   "name": "python",
   "nbconvert_exporter": "python",
   "pygments_lexer": "ipython3",
   "version": "3.9.12"
  },
  "varInspector": {
   "cols": {
    "lenName": 16,
    "lenType": 16,
    "lenVar": 40
   },
   "kernels_config": {
    "python": {
     "delete_cmd_postfix": "",
     "delete_cmd_prefix": "del ",
     "library": "var_list.py",
     "varRefreshCmd": "print(var_dic_list())"
    },
    "r": {
     "delete_cmd_postfix": ") ",
     "delete_cmd_prefix": "rm(",
     "library": "var_list.r",
     "varRefreshCmd": "cat(var_dic_list()) "
    }
   },
   "types_to_exclude": [
    "module",
    "function",
    "builtin_function_or_method",
    "instance",
    "_Feature"
   ],
   "window_display": false
  }
 },
 "nbformat": 4,
 "nbformat_minor": 5
}
